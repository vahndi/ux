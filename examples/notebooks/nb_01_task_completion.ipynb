{
 "cells": [
  {
   "cell_type": "code",
   "execution_count": 1,
   "metadata": {},
   "outputs": [],
   "source": [
    "# set up paths\n",
    "from os import pardir, getcwd\n",
    "from os.path import join, abspath\n",
    "import sys\n",
    "nb_dir = getcwd()\n",
    "project_path = abspath(join(nb_dir, pardir))\n",
    "sys.path.append(project_path)\n",
    "# 3rd party imports\n",
    "from collections import defaultdict\n",
    "import matplotlib.pyplot as plt\n",
    "from tqdm import tqdm\n",
    "# ux imports\n",
    "from ux.interfaces.i_database_manager import IDatabaseManager\n",
    "from ux.classes.ux.action_template import ActionTemplate\n",
    "from ux.classes.ux.task import Task\n",
    "from ux.plots.task_success import plot_task_completion_rates\n",
    "# local imports\n",
    "from constants import TOPICS, TOPIC_ABBREVIATIONS\n",
    "from managers.card_view_manager import CardViewManager\n",
    "from paths.files import FN_INTERIM_CARD_VIEW\n",
    "from pmi_examples.helpers import create_card_view_task"
   ]
  },
  {
   "cell_type": "markdown",
   "metadata": {
    "collapsed": true
   },
   "source": [
    "## Task Completion"
   ]
  },
  {
   "cell_type": "markdown",
   "metadata": {},
   "source": [
    "### Single Task Completion"
   ]
  },
  {
   "cell_type": "markdown",
   "metadata": {},
   "source": [
    "The first step is to create a new instance of the Database Manager that we have written to generate our UX objects from the underlying data logs. In this case our data logs have been processed and transformed into a pandas DataFrame but in theory we can use any database or file system as the data store."
   ]
  },
  {
   "cell_type": "code",
   "execution_count": 2,
   "metadata": {},
   "outputs": [],
   "source": [
    "db = CardViewManager(data=FN_INTERIM_CARD_VIEW)"
   ]
  },
  {
   "cell_type": "markdown",
   "metadata": {},
   "source": [
    "The first step is to define a Task that we will use to measure completion of. Let's take a look at the list of locations that User Actions have been taken at in the database."
   ]
  },
  {
   "cell_type": "code",
   "execution_count": 3,
   "metadata": {},
   "outputs": [
    {
     "data": {
      "text/plain": [
       "[Location(/topic/risk-management/0/0),\n",
       " Location(/topic/risk-management/1/2),\n",
       " Location(/topic/risk-management/2/29),\n",
       " Location(/topic/scheduling/0/0),\n",
       " Location(/topic/work-breakdown-structure/0/0),\n",
       " Location(/topic/work-breakdown-structure/1/2),\n",
       " Location(/topic/personal-kanban/0/0),\n",
       " Location(/topic/personal-kanban/0/1),\n",
       " Location(/topic/personal-kanban/1/2),\n",
       " Location(/topic/personal-kanban/1/3),\n",
       " Location(/topic/blend-agile-and-waterfall/0/0),\n",
       " Location(/topic/blend-agile-and-waterfall/0/1),\n",
       " Location(/topic/blend-agile-and-waterfall/1/2),\n",
       " Location(/topic/blend-agile-and-waterfall/1/3),\n",
       " Location(/topic/blend-agile-and-waterfall/0/2),\n",
       " Location(/topic/risk-management/0/1),\n",
       " Location(/topic/risk-management/1/3),\n",
       " Location(/topic/risk-management/1/4),\n",
       " Location(/topic/risk-management/1/5),\n",
       " Location(/topic/risk-management/1/6),\n",
       " Location(/topic/risk-management/1/7),\n",
       " Location(/topic/risk-management/1/8),\n",
       " Location(/topic/risk-management/1/9),\n",
       " Location(/topic/risk-management/1/10),\n",
       " Location(/topic/risk-management/1/11),\n",
       " Location(/topic/risk-management/1/12),\n",
       " Location(/topic/risk-management/1/13),\n",
       " Location(/topic/risk-management/1/14),\n",
       " Location(/topic/risk-management/1/15),\n",
       " Location(/topic/risk-management/1/16),\n",
       " Location(/topic/risk-management/4/39),\n",
       " Location(/topic/risk-management/0/2),\n",
       " Location(/topic/risk-management/1/17),\n",
       " Location(/topic/risk-management/1/18),\n",
       " Location(/topic/risk-management/1/19),\n",
       " Location(/topic/risk-management/1/20),\n",
       " Location(/topic/risk-management/1/21),\n",
       " Location(/topic/risk-management/1/22),\n",
       " Location(/topic/risk-management/1/23),\n",
       " Location(/topic/risk-management/1/25),\n",
       " Location(/topic/risk-management/1/26),\n",
       " Location(/topic/risk-management/1/27),\n",
       " Location(/topic/risk-management/2/30),\n",
       " Location(/topic/risk-management/2/31),\n",
       " Location(/topic/risk-management/2/32),\n",
       " Location(/topic/risk-management/2/33),\n",
       " Location(/topic/risk-management/2/35),\n",
       " Location(/topic/risk-management/3/36),\n",
       " Location(/topic/risk-management/3/37),\n",
       " Location(/topic/risk-management/3/39),\n",
       " Location(/topic/risk-management/4/40),\n",
       " Location(/topic/risk-management/5/44),\n",
       " Location(/topic/risk-management/5/45),\n",
       " Location(/topic/risk-management/5/46),\n",
       " Location(/topic/risk-management/1/29),\n",
       " Location(/topic/risk-management/3/38),\n",
       " Location(/topic/risk-management/4/41),\n",
       " Location(/topic/risk-management/4/42),\n",
       " Location(/topic/risk-management/1/28),\n",
       " Location(/topic/risk-management/4/44),\n",
       " Location(/topic/scheduling/0/1),\n",
       " Location(/topic/scheduling/1/2),\n",
       " Location(/topic/scheduling/1/4),\n",
       " Location(/topic/scheduling/1/7),\n",
       " Location(/topic/scheduling/1/8),\n",
       " Location(/topic/scheduling/1/9),\n",
       " Location(/topic/scheduling/2/10),\n",
       " Location(/topic/scheduling/2/12),\n",
       " Location(/topic/scheduling/2/13),\n",
       " Location(/topic/scheduling/2/14),\n",
       " Location(/topic/scheduling/2/15),\n",
       " Location(/topic/scheduling/2/16),\n",
       " Location(/topic/scheduling/2/17),\n",
       " Location(/topic/scheduling/2/18),\n",
       " Location(/topic/scheduling/2/20),\n",
       " Location(/topic/scheduling/2/21),\n",
       " Location(/topic/scheduling/2/22),\n",
       " Location(/topic/scheduling/2/23),\n",
       " Location(/topic/scheduling/3/24),\n",
       " Location(/topic/scheduling/3/27),\n",
       " Location(/topic/scheduling/3/28),\n",
       " Location(/topic/scheduling/3/29),\n",
       " Location(/topic/scheduling/3/30),\n",
       " Location(/topic/scheduling/3/31),\n",
       " Location(/topic/scheduling/3/32),\n",
       " Location(/topic/scheduling/3/33),\n",
       " Location(/topic/scheduling/3/34),\n",
       " Location(/topic/scheduling/3/35),\n",
       " Location(/topic/scheduling/3/37),\n",
       " Location(/topic/scheduling/3/38),\n",
       " Location(/topic/scheduling/3/39),\n",
       " Location(/topic/scheduling/4/40),\n",
       " Location(/topic/scheduling/4/42),\n",
       " Location(/topic/scheduling/4/43),\n",
       " Location(/topic/scheduling/4/44),\n",
       " Location(/topic/scheduling/4/45),\n",
       " Location(/topic/scheduling/4/46),\n",
       " Location(/topic/scheduling/4/47),\n",
       " Location(/topic/scheduling/4/48),\n",
       " Location(/topic/scheduling/4/49),\n",
       " Location(/topic/scheduling/4/50),\n",
       " Location(/topic/scheduling/4/51),\n",
       " Location(/topic/scheduling/4/52),\n",
       " Location(/topic/scheduling/4/53),\n",
       " Location(/topic/scheduling/4/54),\n",
       " Location(/topic/scheduling/4/55),\n",
       " Location(/topic/scheduling/4/56),\n",
       " Location(/topic/scheduling/5/57),\n",
       " Location(/topic/scheduling/5/60),\n",
       " Location(/topic/scheduling/5/61),\n",
       " Location(/topic/scheduling/5/62),\n",
       " Location(/topic/scheduling/5/63),\n",
       " Location(/topic/scheduling/5/64),\n",
       " Location(/topic/scheduling/5/65),\n",
       " Location(/topic/scheduling/5/66),\n",
       " Location(/topic/scheduling/5/67),\n",
       " Location(/topic/scheduling/5/68),\n",
       " Location(/topic/scheduling/6/69),\n",
       " Location(/topic/scheduling/6/72),\n",
       " Location(/topic/scheduling/6/73),\n",
       " Location(/topic/scheduling/6/74),\n",
       " Location(/topic/scheduling/6/76),\n",
       " Location(/topic/scheduling/6/78),\n",
       " Location(/topic/scheduling/6/79),\n",
       " Location(/topic/scheduling/6/80),\n",
       " Location(/topic/critical-pm-relationships/0/0),\n",
       " Location(/topic/critical-pm-relationships/0/1),\n",
       " Location(/topic/critical-pm-relationships/1/2),\n",
       " Location(/topic/critical-pm-relationships/1/4),\n",
       " Location(/topic/critical-pm-relationships/1/5),\n",
       " Location(/topic/critical-pm-relationships/1/6),\n",
       " Location(/topic/critical-pm-relationships/1/7),\n",
       " Location(/topic/critical-pm-relationships/1/8),\n",
       " Location(/topic/critical-pm-relationships/2/9),\n",
       " Location(/topic/critical-pm-relationships/2/10),\n",
       " Location(/topic/critical-pm-relationships/2/11),\n",
       " Location(/topic/critical-pm-relationships/2/12),\n",
       " Location(/topic/critical-pm-relationships/2/14),\n",
       " Location(/topic/critical-pm-relationships/2/15),\n",
       " Location(/topic/critical-pm-relationships/2/16),\n",
       " Location(/topic/critical-pm-relationships/3/17),\n",
       " Location(/topic/critical-pm-relationships/3/18),\n",
       " Location(/topic/critical-pm-relationships/3/19),\n",
       " Location(/topic/critical-pm-relationships/3/20),\n",
       " Location(/topic/critical-pm-relationships/3/21),\n",
       " Location(/topic/critical-pm-relationships/3/22),\n",
       " Location(/topic/critical-pm-relationships/3/23),\n",
       " Location(/topic/critical-pm-relationships/3/24),\n",
       " Location(/topic/critical-pm-relationships/3/25),\n",
       " Location(/topic/critical-pm-relationships/3/26),\n",
       " Location(/topic/critical-pm-relationships/4/27),\n",
       " Location(/topic/critical-pm-relationships/4/28),\n",
       " Location(/topic/critical-pm-relationships/4/29),\n",
       " Location(/topic/critical-pm-relationships/4/30),\n",
       " Location(/topic/critical-pm-relationships/4/31),\n",
       " Location(/topic/critical-pm-relationships/4/32),\n",
       " Location(/topic/critical-pm-relationships/4/33),\n",
       " Location(/topic/critical-pm-relationships/4/34),\n",
       " Location(/topic/critical-pm-relationships/4/35),\n",
       " Location(/topic/critical-pm-relationships/4/36),\n",
       " Location(/topic/critical-pm-relationships/5/37),\n",
       " Location(/topic/critical-pm-relationships/5/38),\n",
       " Location(/topic/critical-pm-relationships/5/39),\n",
       " Location(/topic/critical-pm-relationships/5/40),\n",
       " Location(/topic/critical-pm-relationships/5/41),\n",
       " Location(/topic/critical-pm-relationships/5/42),\n",
       " Location(/topic/critical-pm-relationships/5/43),\n",
       " Location(/topic/critical-pm-relationships/5/44),\n",
       " Location(/topic/gathering-requirements/0/0),\n",
       " Location(/topic/gathering-requirements/0/1),\n",
       " Location(/topic/gathering-requirements/1/2),\n",
       " Location(/topic/gathering-requirements/1/3),\n",
       " Location(/topic/gathering-requirements/1/4),\n",
       " Location(/topic/gathering-requirements/1/5),\n",
       " Location(/topic/gathering-requirements/1/6),\n",
       " Location(/topic/gathering-requirements/1/7),\n",
       " Location(/topic/gathering-requirements/1/8),\n",
       " Location(/topic/gathering-requirements/1/9),\n",
       " Location(/topic/gathering-requirements/1/10),\n",
       " Location(/topic/gathering-requirements/1/11),\n",
       " Location(/topic/gathering-requirements/1/12),\n",
       " Location(/topic/gathering-requirements/1/13),\n",
       " Location(/topic/gathering-requirements/1/15),\n",
       " Location(/topic/gathering-requirements/1/16),\n",
       " Location(/topic/gathering-requirements/2/17),\n",
       " Location(/topic/gathering-requirements/2/18),\n",
       " Location(/topic/gathering-requirements/2/19),\n",
       " Location(/topic/gathering-requirements/2/20),\n",
       " Location(/topic/gathering-requirements/2/21),\n",
       " Location(/topic/gathering-requirements/2/22),\n",
       " Location(/topic/gathering-requirements/2/23),\n",
       " Location(/topic/gathering-requirements/2/24),\n",
       " Location(/topic/gathering-requirements/3/25),\n",
       " Location(/topic/gathering-requirements/3/26),\n",
       " Location(/topic/gathering-requirements/3/27),\n",
       " Location(/topic/gathering-requirements/3/28),\n",
       " Location(/topic/gathering-requirements/3/29),\n",
       " Location(/topic/gathering-requirements/3/30),\n",
       " Location(/topic/gathering-requirements/3/31),\n",
       " Location(/topic/gathering-requirements/3/32),\n",
       " Location(/topic/gathering-requirements/3/33),\n",
       " Location(/topic/gathering-requirements/3/34),\n",
       " Location(/topic/gathering-requirements/4/35),\n",
       " Location(/topic/gathering-requirements/4/36),\n",
       " Location(/topic/gathering-requirements/4/38),\n",
       " Location(/topic/gathering-requirements/4/39),\n",
       " Location(/topic/gathering-requirements/4/40),\n",
       " Location(/topic/gathering-requirements/4/41),\n",
       " Location(/topic/gathering-requirements/4/42),\n",
       " Location(/topic/gathering-requirements/4/43),\n",
       " Location(/topic/gathering-requirements/4/44),\n",
       " Location(/topic/gathering-requirements/4/45),\n",
       " Location(/topic/gathering-requirements/4/46),\n",
       " Location(/topic/work-breakdown-structure/0/1),\n",
       " Location(/topic/gathering-requirements/0/2),\n",
       " Location(/topic/retrospectives/0/0),\n",
       " Location(/topic/retrospectives/0/1),\n",
       " Location(/topic/retrospectives/1/2),\n",
       " Location(/topic/retrospectives/0/2),\n",
       " Location(/topic/retrospectives/1/3),\n",
       " Location(/topic/personal-kanban/0/2),\n",
       " Location(/topic/risk-management/2/34),\n",
       " Location(/topic/risk-management/3/35),\n",
       " Location(/topic/work-breakdown-structure/1/3),\n",
       " Location(/topic/personal-kanban/1/4),\n",
       " Location(/topic/gathering-requirements/1/17),\n",
       " Location(/topic/gathering-requirements/3/35),\n",
       " Location(/topic/work-breakdown-structure/0/2),\n",
       " Location(/topic/retrospectives/1/4),\n",
       " Location(/topic/critical-pm-relationships/0/2),\n",
       " Location(/topic/critical-pm-relationships/1/9),\n",
       " Location(/topic/critical-pm-relationships/2/17),\n",
       " Location(/topic/critical-pm-relationships/3/27),\n",
       " Location(/topic/critical-pm-relationships/4/37),\n",
       " Location(/topic/risk-management/4/43),\n",
       " Location(/topic/risk-management/5/47),\n",
       " Location(/topic/scheduling/6/81),\n",
       " Location(/topic/work-breakdown-structure/1/4),\n",
       " Location(/topic/critical-pm-relationships/5/45),\n",
       " Location(/topic/gathering-requirements/4/47),\n",
       " Location(/topic/blend-agile-and-waterfall/1/4),\n",
       " Location(/topic/scheduling/0/2),\n",
       " Location(/topic/scheduling/1/10),\n",
       " Location(/topic/scheduling/3/40),\n",
       " Location(/topic/scheduling/5/69),\n",
       " Location(/topic/gathering-requirements/2/25),\n",
       " Location(/topic/scheduling/2/24),\n",
       " Location(/topic/scheduling/4/57)]"
      ]
     },
     "execution_count": 3,
     "metadata": {},
     "output_type": "execute_result"
    }
   ],
   "source": [
    "db.locations()"
   ]
  },
  {
   "cell_type": "markdown",
   "metadata": {},
   "source": [
    "We can see locations corresponding to a number of relative URLs in the following format:\n",
    "    **/topic/{topic-name}/{lesson-number}/{card-number}**"
   ]
  },
  {
   "cell_type": "markdown",
   "metadata": {},
   "source": [
    "Let's define a function to create a new Task for a chosen topic."
   ]
  },
  {
   "cell_type": "code",
   "execution_count": 4,
   "metadata": {},
   "outputs": [],
   "source": [
    "def create_card_view_task(db: IDatabaseManager, search_text: str, task_name: str):\n",
    "    \"\"\"\n",
    "    :rtype: Task\n",
    "    \"\"\"\n",
    "    # get locations\n",
    "    locations = db.locations()\n",
    "    topic_locations = [loc for loc in locations if search_text in loc.location_id]\n",
    "    topic_locations.sort(key=lambda loc: int(loc.location_id.split('/')[-1]))\n",
    "    topic_locations.sort(key=lambda loc: int(loc.location_id.split('/')[-2]))\n",
    "    # define task\n",
    "    task = Task(task_name)\n",
    "    for location in topic_locations:\n",
    "        task.add_action_template(ActionTemplate(\n",
    "            action_type='card-view',\n",
    "            source_id=location.location_id\n",
    "        ))\n",
    "\n",
    "    return task"
   ]
  },
  {
   "cell_type": "markdown",
   "metadata": {},
   "source": [
    "And now let's use it to create a new Task that represents a User navigating forwards through each of the Critical PM Relationships cards."
   ]
  },
  {
   "cell_type": "code",
   "execution_count": 5,
   "metadata": {},
   "outputs": [],
   "source": [
    "task = create_card_view_task(\n",
    "    db=db, search_text='critical-pm-relationships',\n",
    "    task_name='Critical PM Relationships'\n",
    ")"
   ]
  },
  {
   "cell_type": "markdown",
   "metadata": {},
   "source": [
    "And now confirm that it worked as expected by accessing the first 10 ActionTemplates contained in the Task."
   ]
  },
  {
   "cell_type": "code",
   "execution_count": 6,
   "metadata": {},
   "outputs": [
    {
     "data": {
      "text/plain": [
       "[ActionTemplate(card-view: /topic/critical-pm-relationships/0/0),\n",
       " ActionTemplate(card-view: /topic/critical-pm-relationships/0/1),\n",
       " ActionTemplate(card-view: /topic/critical-pm-relationships/0/2),\n",
       " ActionTemplate(card-view: /topic/critical-pm-relationships/1/2),\n",
       " ActionTemplate(card-view: /topic/critical-pm-relationships/1/4),\n",
       " ActionTemplate(card-view: /topic/critical-pm-relationships/1/5),\n",
       " ActionTemplate(card-view: /topic/critical-pm-relationships/1/6),\n",
       " ActionTemplate(card-view: /topic/critical-pm-relationships/1/7),\n",
       " ActionTemplate(card-view: /topic/critical-pm-relationships/1/8),\n",
       " ActionTemplate(card-view: /topic/critical-pm-relationships/1/9)]"
      ]
     },
     "execution_count": 6,
     "metadata": {},
     "output_type": "execute_result"
    }
   ],
   "source": [
    "task.action_templates[:10]"
   ]
  },
  {
   "cell_type": "markdown",
   "metadata": {},
   "source": [
    "We can also get a summary of the Task Name and the number of Templates it contains"
   ]
  },
  {
   "cell_type": "code",
   "execution_count": 7,
   "metadata": {},
   "outputs": [
    {
     "data": {
      "text/plain": [
       "Task(Critical PM Relationships [49])"
      ]
     },
     "execution_count": 7,
     "metadata": {},
     "output_type": "execute_result"
    }
   ],
   "source": [
    "task"
   ]
  },
  {
   "cell_type": "markdown",
   "metadata": {},
   "source": [
    "Now we want to iterate through each of the Sessions in the database and find those that contain UserActions that look like the Templates we defined as part of the Task. First we need to retrieve the Sessions."
   ]
  },
  {
   "cell_type": "code",
   "execution_count": 8,
   "metadata": {},
   "outputs": [],
   "source": [
    "sessions = db.sessions()"
   ]
  },
  {
   "cell_type": "markdown",
   "metadata": {},
   "source": [
    "Now let's iterate through them and measure the rates of ordered and unordered task completion for each"
   ]
  },
  {
   "cell_type": "code",
   "execution_count": 9,
   "metadata": {},
   "outputs": [
    {
     "name": "stderr",
     "output_type": "stream",
     "text": [
      "Scanning Sessions: 100%|██████████| 1191/1191 [00:10<00:00, 118.61it/s]\n"
     ]
    }
   ],
   "source": [
    "# create some lists to store unordered and ordered task completion rates\n",
    "unordered_completion_rates = []\n",
    "ordered_completion_rates = []\n",
    "# scan through the user sessions\n",
    "for session in tqdm(sessions, 'Scanning Sessions'):  # tqdm gives us a cool progress bar for long tasks\n",
    "    session_sequence = db.get_session_sequence(session.session_id)  # create an ActionSequence from the Session\n",
    "    if not session_sequence.intersects_task(task):\n",
    "        continue\n",
    "    unordered_completion_rate = task.unordered_completion_rate(session_sequence)\n",
    "    unordered_completion_rates.append(unordered_completion_rate)\n",
    "    ordered_completion_rate = task.ordered_completion_rate(session_sequence)\n",
    "    ordered_completion_rates.append(ordered_completion_rate)"
   ]
  },
  {
   "cell_type": "markdown",
   "metadata": {},
   "source": [
    "Now that we have populated the lists we want to visualize them. First let's put them into a dictionary structure."
   ]
  },
  {
   "cell_type": "code",
   "execution_count": 10,
   "metadata": {},
   "outputs": [],
   "source": [
    "completion_rates = dict(\n",
    "    ordered=ordered_completion_rates,\n",
    "    unordered=unordered_completion_rates\n",
    ")"
   ]
  },
  {
   "cell_type": "markdown",
   "metadata": {},
   "source": [
    "Finally we can call a plot method from the UX library to plot a comparison"
   ]
  },
  {
   "cell_type": "code",
   "execution_count": 11,
   "metadata": {},
   "outputs": [
    {
     "data": {
      "image/png": "[encoded data removed]",
      "text/plain": [
       "<Figure size 1152x648 with 1 Axes>"
      ]
     },
     "metadata": {
      "needs_background": "light"
     },
     "output_type": "display_data"
    }
   ],
   "source": [
    "fig, ax = plt.subplots(figsize=(16, 9))\n",
    "plot_task_completion_rates(completion_rates, ax=ax)"
   ]
  },
  {
   "cell_type": "markdown",
   "metadata": {},
   "source": [
    "### Multiple Task Completion"
   ]
  },
  {
   "cell_type": "markdown",
   "metadata": {},
   "source": [
    "Ok so we can do something for one Task. What about measuring completion for all of the topics? This is pretty simple - we just need to create moree Tasks and check for completion against each of them as we iterate through the session logs."
   ]
  },
  {
   "cell_type": "markdown",
   "metadata": {},
   "source": [
    "First step is to define the Tasks:"
   ]
  },
  {
   "cell_type": "code",
   "execution_count": 12,
   "metadata": {},
   "outputs": [],
   "source": [
    "def create_all_card_view_tasks(db: IDatabaseManager):\n",
    "    \"\"\"\n",
    "    :rtype: List[Task]\n",
    "    \"\"\"\n",
    "    tasks = [create_card_view_task(\n",
    "        db=db, search_text=topic['slug_text'],\n",
    "        task_name=topic['topic']\n",
    "    ) for _, topic in TOPICS.iterrows()]\n",
    "\n",
    "    return tasks\n",
    "\n",
    "tasks = create_all_card_view_tasks(db)"
   ]
  },
  {
   "cell_type": "markdown",
   "metadata": {},
   "source": [
    "Let's double-check that it worked"
   ]
  },
  {
   "cell_type": "code",
   "execution_count": 13,
   "metadata": {},
   "outputs": [
    {
     "data": {
      "text/plain": [
       "[Task(Blend Agile and Waterfall [6]),\n",
       " Task(Critical PM Relationships [49]),\n",
       " Task(Gathering Requirements [50]),\n",
       " Task(Personal Kanban [6]),\n",
       " Task(Retrospectives [6]),\n",
       " Task(Risk Management [52]),\n",
       " Task(Scheduling [73]),\n",
       " Task(Work Breakdown Structure [6])]"
      ]
     },
     "execution_count": 13,
     "metadata": {},
     "output_type": "execute_result"
    }
   ],
   "source": [
    "tasks"
   ]
  },
  {
   "cell_type": "code",
   "execution_count": 14,
   "metadata": {},
   "outputs": [
    {
     "data": {
      "text/plain": [
       "ActionTemplate(card-view: /topic/critical-pm-relationships/0/2)"
      ]
     },
     "execution_count": 14,
     "metadata": {},
     "output_type": "execute_result"
    }
   ],
   "source": [
    "tasks[1].action_templates[2]"
   ]
  },
  {
   "cell_type": "markdown",
   "metadata": {},
   "source": [
    "Looks okay. Now for the iteration. Start by creating different data structures to hold the ordered and unordered results in:"
   ]
  },
  {
   "cell_type": "code",
   "execution_count": 15,
   "metadata": {},
   "outputs": [],
   "source": [
    "unordered_completion_rates = defaultdict(list)\n",
    "ordered_completion_rates = defaultdict(list)"
   ]
  },
  {
   "cell_type": "markdown",
   "metadata": {},
   "source": [
    "Now the modified iteration loop:"
   ]
  },
  {
   "cell_type": "code",
   "execution_count": 16,
   "metadata": {},
   "outputs": [
    {
     "name": "stderr",
     "output_type": "stream",
     "text": [
      "Scanning Sessions: 100%|██████████| 1191/1191 [00:10<00:00, 108.68it/s]\n"
     ]
    }
   ],
   "source": [
    "for session in tqdm(sessions, 'Scanning Sessions'):\n",
    "    session_sequence = db.get_session_sequence(session.session_id)\n",
    "    for task in tasks:\n",
    "        if not session_sequence.intersects_task(task):\n",
    "            continue\n",
    "        unordered_completion_rate = task.unordered_completion_rate(session_sequence)\n",
    "        unordered_completion_rates[task.name].append(unordered_completion_rate)\n",
    "        ordered_completion_rate = task.ordered_completion_rate(session_sequence)\n",
    "        ordered_completion_rates[task.name].append(ordered_completion_rate)"
   ]
  },
  {
   "cell_type": "markdown",
   "metadata": {},
   "source": [
    "And finally the plot of completion for each topic in one plot."
   ]
  },
  {
   "cell_type": "code",
   "execution_count": 17,
   "metadata": {},
   "outputs": [
    {
     "data": {
      "image/png": "[encoded data removed]",
      "text/plain": [
       "<Figure size 1152x864 with 8 Axes>"
      ]
     },
     "metadata": {
      "needs_background": "light"
     },
     "output_type": "display_data"
    }
   ],
   "source": [
    "fig, axes = plt.subplots(nrows=2, ncols=4, figsize=(16, 12))\n",
    "for t, topic in enumerate(TOPICS['topic'].to_list()):\n",
    "    ax = axes.flat[t]\n",
    "    ax.set_title(topic)\n",
    "    topic_rates = {\n",
    "        'Ordered': ordered_completion_rates[topic],\n",
    "        'Unordered': unordered_completion_rates[topic]\n",
    "    }\n",
    "    plot_task_completion_rates(completion_rates=topic_rates, ax=ax)"
   ]
  },
  {
   "cell_type": "code",
   "execution_count": null,
   "metadata": {},
   "outputs": [],
   "source": []
  }
 ],
 "metadata": {
  "kernelspec": {
   "display_name": "Python 3",
   "language": "python",
   "name": "python3"
  },
  "language_info": {
   "codemirror_mode": {
    "name": "ipython",
    "version": 3
   },
   "file_extension": ".py",
   "mimetype": "text/x-python",
   "name": "python",
   "nbconvert_exporter": "python",
   "pygments_lexer": "ipython3",
   "version": "3.6.8"
  }
 },
 "nbformat": 4,
 "nbformat_minor": 1
}
