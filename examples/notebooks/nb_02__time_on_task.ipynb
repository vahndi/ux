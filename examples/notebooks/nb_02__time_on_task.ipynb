{
 "cells": [
  {
   "cell_type": "markdown",
   "metadata": {},
   "source": [
    "## Time Spent on a Single Task"
   ]
  },
  {
   "cell_type": "markdown",
   "metadata": {},
   "source": [
    "We start off in the same way as we did for measuring Task Completion. First create a Database Manager instance, and then define the Task and grab Sessions from the Database"
   ]
  },
  {
   "cell_type": "code",
   "execution_count": 1,
   "metadata": {},
   "outputs": [],
   "source": [
    "# set up paths\n",
    "from os import pardir, getcwd\n",
    "from os.path import join, abspath\n",
    "import sys\n",
    "nb_dir = getcwd()\n",
    "project_path = abspath(join(nb_dir, pardir))\n",
    "sys.path.append(project_path)\n",
    "# 3rd party imports\n",
    "import matplotlib.pyplot as plt\n",
    "from pandas import Series\n",
    "from tqdm import tqdm\n",
    "# ux imports\n",
    "from ux.calcs.time_on_task import time_on_task\n",
    "from ux.plots.time_on_task import plot_task_completion_times\n",
    "# local imports\n",
    "from managers.card_view_manager import CardViewManager\n",
    "from paths.files import FN_INTERIM_CARD_VIEW\n",
    "from pmi_examples.helpers import create_card_view_task\n",
    "from pmi_examples.helpers import create_all_card_view_tasks"
   ]
  },
  {
   "cell_type": "code",
   "execution_count": 2,
   "metadata": {},
   "outputs": [],
   "source": [
    "# set up db manager\n",
    "db = CardViewManager(data=FN_INTERIM_CARD_VIEW)\n",
    "# create task\n",
    "task = create_card_view_task(\n",
    "    db=db, search_text='critical-pm-relationships',\n",
    "    task_name='Critical PM Relationships'\n",
    ")\n",
    "# get sessions from database\n",
    "sessions = db.sessions()"
   ]
  },
  {
   "cell_type": "markdown",
   "metadata": {},
   "source": [
    "Now we just have to iterate through the Sessions, get the corresponding Action Sequences, and cross reference them against our Task. If the Sequence Actions intersect with the Task's Action Templates, then we add the time the User spent to a list."
   ]
  },
  {
   "cell_type": "code",
   "execution_count": 3,
   "metadata": {},
   "outputs": [
    {
     "name": "stderr",
     "output_type": "stream",
     "text": [
      "100%|██████████| 1191/1191 [00:10<00:00, 116.88it/s]\n"
     ]
    }
   ],
   "source": [
    "task_times = []\n",
    "for session in tqdm(sessions):\n",
    "    sequence = db.get_session_sequence(session.session_id)\n",
    "    if not sequence.intersects_task(task):\n",
    "        continue\n",
    "    task_times.append(time_on_task(task=task, action_sequence=sequence).total_seconds())"
   ]
  },
  {
   "cell_type": "markdown",
   "metadata": {},
   "source": [
    "Now we have the list of times, we convert it to a pandas Series, filter it to remove times > 1800s (assuming a max session length of half an hour)"
   ]
  },
  {
   "cell_type": "code",
   "execution_count": 4,
   "metadata": {},
   "outputs": [
    {
     "data": {
      "text/plain": [
       "0     15.037\n",
       "1      0.950\n",
       "2    526.783\n",
       "3      9.624\n",
       "4     29.789\n",
       "dtype: float64"
      ]
     },
     "execution_count": 4,
     "metadata": {},
     "output_type": "execute_result"
    }
   ],
   "source": [
    "task_times = Series(task_times)\n",
    "task_times = task_times[task_times <= 1800]\n",
    "task_times.head()"
   ]
  },
  {
   "cell_type": "markdown",
   "metadata": {},
   "source": [
    "Now we have what looks like a sensible result, let's plot its distribution."
   ]
  },
  {
   "cell_type": "code",
   "execution_count": 5,
   "metadata": {},
   "outputs": [
    {
     "data": {
      "image/png": "[encoded data removed]",
      "text/plain": [
       "<Figure size 864x576 with 1 Axes>"
      ]
     },
     "metadata": {
      "needs_background": "light"
     },
     "output_type": "display_data"
    }
   ],
   "source": [
    "fig, ax = plt.subplots(figsize=(12, 8))\n",
    "task_times.plot(kind='hist', bins=range(0, 1801, 60), ax=ax)\n",
    "ax.set_xlabel('Time on Task (s)')\n",
    "ax.set_ylabel('# Sessions')\n",
    "plt.show()"
   ]
  },
  {
   "cell_type": "markdown",
   "metadata": {},
   "source": [
    "### Time Spent on Multiple Tasks "
   ]
  },
  {
   "cell_type": "markdown",
   "metadata": {},
   "source": [
    "As we saw with Task Completion, working with multiple Tasks just involves defining more of them upfront, and modifications to our iteration and plot code. Let's start by defining the Tasks using a predefined function."
   ]
  },
  {
   "cell_type": "code",
   "execution_count": 6,
   "metadata": {},
   "outputs": [],
   "source": [
    "tasks = create_all_card_view_tasks(db=db)"
   ]
  },
  {
   "cell_type": "code",
   "execution_count": 7,
   "metadata": {},
   "outputs": [
    {
     "data": {
      "text/plain": [
       "[Task(Blend Agile and Waterfall [6]),\n",
       " Task(Critical PM Relationships [49]),\n",
       " Task(Gathering Requirements [50]),\n",
       " Task(Personal Kanban [6]),\n",
       " Task(Retrospectives [6]),\n",
       " Task(Risk Management [52]),\n",
       " Task(Scheduling [73]),\n",
       " Task(Work Breakdown Structure [6])]"
      ]
     },
     "execution_count": 7,
     "metadata": {},
     "output_type": "execute_result"
    }
   ],
   "source": [
    "tasks"
   ]
  },
  {
   "cell_type": "markdown",
   "metadata": {},
   "source": [
    "Now pick a suitable data structure:"
   ]
  },
  {
   "cell_type": "code",
   "execution_count": 9,
   "metadata": {},
   "outputs": [],
   "source": [
    "from collections import defaultdict\n",
    "task_times = defaultdict(list)"
   ]
  },
  {
   "cell_type": "markdown",
   "metadata": {},
   "source": [
    "Iterate over session sequences:"
   ]
  },
  {
   "cell_type": "code",
   "execution_count": 10,
   "metadata": {},
   "outputs": [
    {
     "name": "stderr",
     "output_type": "stream",
     "text": [
      "Scanning sessions: 100%|██████████| 1191/1191 [00:11<00:00, 100.79it/s]\n"
     ]
    }
   ],
   "source": [
    "for session in tqdm(sessions, desc='Scanning sessions'):\n",
    "    sequence = db.get_session_sequence(session.session_id)\n",
    "    for task in tasks:\n",
    "        if not sequence.intersects_task(task):\n",
    "            continue\n",
    "        time_taken = time_on_task(task=task, action_sequence=sequence).total_seconds()\n",
    "        if 0 < time_taken < 1800:  # ignore random clicks on a single task\n",
    "            task_times[task.name].append(time_taken)"
   ]
  },
  {
   "cell_type": "markdown",
   "metadata": {},
   "source": [
    "and plot:"
   ]
  },
  {
   "cell_type": "code",
   "execution_count": 11,
   "metadata": {},
   "outputs": [
    {
     "data": {
      "text/plain": [
       "<matplotlib.axes._subplots.AxesSubplot at 0x12c91a908>"
      ]
     },
     "execution_count": 11,
     "metadata": {},
     "output_type": "execute_result"
    },
    {
     "data": {
      "image/png": "[encoded data removed]",
      "text/plain": [
       "<Figure size 1152x648 with 1 Axes>"
      ]
     },
     "metadata": {
      "needs_background": "light"
     },
     "output_type": "display_data"
    }
   ],
   "source": [
    "fig, ax = plt.subplots(figsize=(16, 9))\n",
    "plot_task_completion_times(task_times=task_times, confidence=0.68, ax=ax)"
   ]
  },
  {
   "cell_type": "markdown",
   "metadata": {},
   "source": [
    "This chart gives us a comparison of the different average completion times for each Task, plus an indication of the Confidencee we can have in each average based on the sample size for that Task."
   ]
  }
 ],
 "metadata": {
  "kernelspec": {
   "display_name": "Python 3",
   "language": "python",
   "name": "python3"
  },
  "language_info": {
   "codemirror_mode": {
    "name": "ipython",
    "version": 3
   },
   "file_extension": ".py",
   "mimetype": "text/x-python",
   "name": "python",
   "nbconvert_exporter": "python",
   "pygments_lexer": "ipython3",
   "version": "3.6.8"
  }
 },
 "nbformat": 4,
 "nbformat_minor": 2
}
